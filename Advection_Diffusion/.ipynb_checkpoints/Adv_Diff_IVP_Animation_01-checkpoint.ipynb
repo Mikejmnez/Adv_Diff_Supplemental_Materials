{
 "cells": [
  {
   "cell_type": "markdown",
   "metadata": {},
   "source": [
    "# Shear Dispersion Initial Value Problem Solution for a Single Along-Channel Mode:\n",
    "\n",
    "\n",
    "The differential equation is\n",
    "\n",
    "\\begin{equation}\n",
    "\\epsilon\\frac{\\partial\\theta}{\\partial t} + \\cos{(y)}\\frac{\\partial\\theta}{\\partial x} = \\frac{1}{Pe}\\frac{\\partial^2\\theta}{\\partial x^2} + \\epsilon\\frac{\\partial^2\\theta}{\\partial y^2} ,\n",
    "\\end{equation}\n",
    "\n",
    "\n",
    "with the initial condition\n",
    "\n",
    "\\begin{equation}\n",
    "\\theta(x, y, 0) = \\cos{(kx)} .\n",
    "\\end{equation}\n",
    "\n",
    "The solution is:\n",
    "\\begin{equation}\n",
    "\\theta(x, y, t) =Re\\left\\{\\sum_{n=0}^{\\infty}2A_{0}^{(2n)}ce_{2n}\\exp{\\left[ ikx - \\left(\\frac{a_{2n}}{4} + \\frac{k_{0}^2}{\\epsilon Pe} \\right)t\\right]}\\right\\} .\n",
    "\\end{equation}\n",
    "\n",
    "\n",
    "\n",
    "#### In this notebook, the values of Pe and k (scale of initial condition) can be modified to inspect the behavior.\n",
    "\n"
   ]
  },
  {
   "cell_type": "code",
   "execution_count": null,
   "metadata": {},
   "outputs": [],
   "source": [
    "import numpy as np\n",
    "import xarray as xr\n",
    "import matplotlib.pyplot as plt\n",
    "from mathieu_functions import A_coefficients\n",
    "from mathieu_functions import mathieu_functions as mfs\n",
    "import holoviews as hv\n",
    "hv.extension('bokeh')"
   ]
  },
  {
   "cell_type": "code",
   "execution_count": null,
   "metadata": {},
   "outputs": [],
   "source": [
    "# =================================\n",
    "# Geometry definitions\n",
    "# =================================\n",
    "M = 1 # Channel width (tilde{y}-direction)\n",
    "alpha = 10  # Sets the length of the channel, and thus smallest mode that fits the x-periodic domain (k_min = 1/alpha)\n",
    "Nk = 50  # length of k-array (truncated x-Fourier series of initial condition)\n",
    "Nx = 10 * Nk  # Grid resolution in x.\n",
    "\n",
    "x = np.linspace(-alpha * (np.pi * M), alpha * (np.pi * M), Nx)\n",
    "y = np.linspace(0, (np.pi * M), Nx//5)\n",
    "X, Y = np.meshgrid(x, y)\n",
    "\n",
    "# =================================\n",
    "# Time, Non-dimensional, scales like diffusive timescale (not seconds but rather units of diffusive timescales).\n",
    "# The time array below, works for k=1/10. A larger k may decay faster, thus need to modify t-array.\n",
    "# =================================\n",
    "t = np.linspace(0, 2, 100)\n",
    "\n",
    "# =============================\n",
    "#  Physical Parameters. \n",
    "#  You can change this. But must run cells again to calculate the eigenvals and eigenfunctions.\n",
    "# =============================\n",
    "k = 1/alpha # wavenumber of initial condition (minimum is 1/alpha), but can be set larger.\n",
    "Pe = 100  # The larger, the more EPs and thus stronger dispersion behavior\n",
    "\n",
    "\n",
    "# =============================\n",
    "N = 25  # matrix size \n",
    "# =============================\n",
    "\n",
    "\n",
    "# =============================\n",
    "#  Mathieu Canonical Parameter (define as an array but will only use the last value)\n",
    "# =============================\n",
    "qf = 2 * k * Pe  ## Largest value of q. The code only works with qf<1000i. It will be expanded at a later time.\n",
    "Q = np.linspace(0, qf, 100)* (1j)"
   ]
  },
  {
   "cell_type": "markdown",
   "metadata": {},
   "source": [
    "## Check value of Mathieu Parameter\n",
    "The larger the value (e.g. $|q|>100$) the larger the Matrix size ($N$ value below). \n",
    "\n",
    "Good rules of thumb:\n",
    "* if $q<100i$, then $N=25$.\n",
    "* if $100i<q<500i$, then $N=50$. \n",
    "* If $q>500i$ then $N=75$. \n",
    "\n",
    "The larger $N$, the slower the code and more memory use."
   ]
  },
  {
   "cell_type": "code",
   "execution_count": null,
   "metadata": {},
   "outputs": [],
   "source": [
    "if qf > 1000:\n",
    "    print('Value of parameter q is:', (qf * (1j)))\n",
    "    raise Warning('Change either Pe or k, to reduce the size of q. The current code only works for values q<1000i')\n",
    "print('Value of parameter q is:', (qf * (1j)))"
   ]
  },
  {
   "cell_type": "code",
   "execution_count": null,
   "metadata": {},
   "outputs": [],
   "source": [
    "print('Mode of initial condition (k_0):', k)"
   ]
  },
  {
   "cell_type": "markdown",
   "metadata": {},
   "source": [
    "## Evaluate Mathieu Eigenvalue System \n"
   ]
  },
  {
   "cell_type": "code",
   "execution_count": null,
   "metadata": {},
   "outputs": [],
   "source": [
    "As = A_coefficients(Q, N, 'even', 'one')\n",
    "Eig_fns = mfs.ce_even(Q, y, N, As=As)"
   ]
  },
  {
   "cell_type": "markdown",
   "metadata": {},
   "source": [
    "## Initialize a list of Mathieu functions with correct size"
   ]
  },
  {
   "cell_type": "code",
   "execution_count": null,
   "metadata": {},
   "outputs": [],
   "source": [
    "CE = []  # Initialize list containing Mathieu functions\n",
    "for n in range(N // 2):\n",
    "    ce = np.repeat(Eig_fns['ce'+str(2 * n)][:, :, np.newaxis], Nx, axis=2)\n",
    "    CE.append(ce)"
   ]
  },
  {
   "cell_type": "markdown",
   "metadata": {},
   "source": [
    "## Define a function to construct the solution "
   ]
  },
  {
   "cell_type": "code",
   "execution_count": null,
   "metadata": {},
   "outputs": [],
   "source": [
    "def evolve_ds(As, CE, k, X, Y, t):\n",
    "    \"\"\"Constructs the solution to the IVP\"\"\"\n",
    "    ## Initialize the array\n",
    "    coords = {\"time\": t, \n",
    "              \"y\": 2 * Y[:, 0], \n",
    "              \"x\": X[0, :]}\n",
    "    Temp = xr.DataArray(np.nan, coords=coords, dims=[\"time\", 'y', 'x'])\n",
    "    ds = xr.Dataset({'Theta': Temp})\n",
    "    for i in range(len(t)):\n",
    "        CE2n = [2 * As['A'+str(2*r)][-1, 0] * CE[r][-1, :, :] * np.exp(-(0.25*As['a'+str(2*r)][-1] + k**2)*t[i]) for r in range(len(CE))]\n",
    "        CE2n = sum(CE2n) # r-sum\n",
    "        T0 = (CE2n * np.exp((k * X) * (1j))).real # k-sum\n",
    "        ds['Theta'].data[i, :, :] = T0\n",
    "    return ds"
   ]
  },
  {
   "cell_type": "code",
   "execution_count": null,
   "metadata": {},
   "outputs": [],
   "source": [
    "ds = evolve_ds(As, CE, k, X, Y, t)"
   ]
  },
  {
   "cell_type": "code",
   "execution_count": null,
   "metadata": {},
   "outputs": [],
   "source": [
    "del CE"
   ]
  },
  {
   "cell_type": "markdown",
   "metadata": {},
   "source": [
    "## Make Animation"
   ]
  },
  {
   "cell_type": "code",
   "execution_count": null,
   "metadata": {},
   "outputs": [],
   "source": [
    "%%output holomap='scrubber'\n",
    "%%opts Image style(cmap='PRGn_r') plot[colorbar=True]\n",
    "%%opts Image [width=600, height=450]\n",
    "hv_ds = hv.Dataset(ds.Theta)\n",
    "hv_ds.to(hv.Image, ['x', 'y'])"
   ]
  },
  {
   "cell_type": "markdown",
   "metadata": {},
   "source": [
    "## Now calculate the cross-channel mean evolution"
   ]
  },
  {
   "cell_type": "code",
   "execution_count": null,
   "metadata": {},
   "outputs": [],
   "source": [
    "Time, Xt = np.meshgrid(x, t)"
   ]
  },
  {
   "cell_type": "code",
   "execution_count": null,
   "metadata": {},
   "outputs": [],
   "source": [
    "Tm = np.trapz(ds.Theta.data, axis=1) * y[1] / np.pi"
   ]
  },
  {
   "cell_type": "code",
   "execution_count": null,
   "metadata": {},
   "outputs": [],
   "source": [
    "fig, ax = plt.subplots(figsize=(14, 8), facecolor='w')\n",
    "cf=plt.contourf(Time, Xt, Tm, levels=np.linspace(-1, 1, 1000), cmap='PRGn')\n",
    "plt.contour(Time, Xt, Tm, levels=np.linspace(-1, 1, 12), colors='#606060')\n",
    "plt.xticks(size=15)\n",
    "plt.yticks(size=15)\n",
    "plt.xlabel('x', fontsize=25)\n",
    "plt.ylabel('t', fontsize=35, rotation=0, labelpad = 25)\n",
    "cbaxes = fig.add_axes([0.675, 0.935, 0.225, 0.03])\n",
    "clb1 = plt.colorbar(cf,cax=cbaxes,ticks=[-1, 0, 1],orientation='horizontal')\n",
    "clb1.ax.tick_params(labelsize=15),\n",
    "plt.show()"
   ]
  },
  {
   "cell_type": "code",
   "execution_count": null,
   "metadata": {},
   "outputs": [],
   "source": [
    "k, Pe, qf"
   ]
  }
 ],
 "metadata": {
  "kernelspec": {
   "display_name": "Python 3",
   "language": "python",
   "name": "python3"
  },
  "language_info": {
   "codemirror_mode": {
    "name": "ipython",
    "version": 3
   },
   "file_extension": ".py",
   "mimetype": "text/x-python",
   "name": "python",
   "nbconvert_exporter": "python",
   "pygments_lexer": "ipython3",
   "version": "3.7.8"
  }
 },
 "nbformat": 4,
 "nbformat_minor": 4
}
