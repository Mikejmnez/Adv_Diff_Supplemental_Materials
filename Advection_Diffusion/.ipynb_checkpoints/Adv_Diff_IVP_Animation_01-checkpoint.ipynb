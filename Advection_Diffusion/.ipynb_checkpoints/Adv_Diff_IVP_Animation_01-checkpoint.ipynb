{
 "cells": [
  {
   "cell_type": "markdown",
   "metadata": {},
   "source": [
    "# IVP Solution for a single Mode:\n",
    "\n",
    "\n",
    "Solution is given by\n",
    "\n",
    "\\begin{equation}\n",
    "\\epsilon\\frac{\\partial\\theta}{\\partial t} + \\cos{(y)}\\frac{\\partial\\theta}{\\partial x} = \\frac{1}{Pe}\\frac{\\partial^2\\theta}{\\partial x^2} + \\epsilon\\frac{\\partial^2\\theta}{\\partial y^2}\n",
    "\\end{equation}\n",
    "\n",
    "\n",
    "with the initial condition\n",
    "\n",
    "\\begin{equation}\n",
    "\\theta(x, y, 0) = \\cos{(k_{0}x)}\n",
    "\\end{equation}\n",
    "\n",
    "\\begin{equation}\n",
    "\\theta(x, y, t) = \\theta_{0}Re\\left\\{\\sum_{n=0}^{\\infty}2A_{0}^{(2n)}ce_{2n}\\exp{\\left[ ik_{0}x - \\left(\\frac{a_{2n}}{4} + \\frac{k_{0}^2}{\\epsilon Pe} \\right)t\\right]}\\right\\}\n",
    "\\end{equation}\n",
    "\n",
    "\n",
    "\n"
   ]
  },
  {
   "cell_type": "code",
   "execution_count": null,
   "metadata": {},
   "outputs": [],
   "source": [
    "import numpy as np\n",
    "import xarray as xr\n",
    "from mathieu_functions import A_coefficients\n",
    "from mathieu_functions import mathieu_functions as mfs\n",
    "import holoviews as hv\n",
    "hv.extension('bokeh')"
   ]
  },
  {
   "cell_type": "code",
   "execution_count": null,
   "metadata": {},
   "outputs": [],
   "source": [
    "# =================================\n",
    "# Geometry definitions\n",
    "# =================================\n",
    "L = np.pi # Channel width (tilde{y}-direction)\n",
    "alpha = 10  # Sets the length of the channel, and thus smallest mode that fits the x-periodic domain (k_min = 1/alpha)\n",
    "Nx = 500  # length of x-array \n",
    "\n",
    "x = np.linspace(-alpha * L, alpha * L, Nx)\n",
    "y = np.linspace(0, L, Nx//5)\n",
    "X, Y = np.meshgrid(x, y)\n",
    "\n",
    "# =================================\n",
    "# Time, Non-dimensional, scales like diffusive timescale (not seconds but rather units of diffusive timescales).\n",
    "# =================================\n",
    "t = np.linspace(0, 2.5, 200)\n",
    "\n",
    "# =============================\n",
    "#  Physical Parameters.\n",
    "# =============================\n",
    "eps = 0.05  # The smaller, the more EPs the solution will incorporate\n",
    "k = 0.1 # lowest possible is 1 / alpha\n",
    "Pe = 1 / eps  # This implies \\epsilon\\Pe = 1. But other definitions can be used too.\n",
    "\n",
    "\n",
    "# =============================\n",
    "#  Mathieu Canonical Parameter (define as an array but will only use the last value)\n",
    "# =============================\n",
    "qf = 2 * k / eps  ## The larger its magnitude (when compared to q = 1i), the faster solutions will decay, and the larger they will disperse.\n",
    "Q = np.linspace(0, qf, 100)* (1j)"
   ]
  },
  {
   "cell_type": "markdown",
   "metadata": {},
   "source": [
    "## Check value of Mathieu Parameter\n",
    "The larger the value (e.g. $|q|>100$) the larger the Matrix size (N value below). \n",
    "\n",
    "Good rule of thumbs:\n",
    "* if $q>100i$, then $N=50$. \n",
    "* If $q>500i$ then $N=75$. \n",
    "\n",
    "The larger N, the slower the code and mode memory use."
   ]
  },
  {
   "cell_type": "code",
   "execution_count": null,
   "metadata": {},
   "outputs": [],
   "source": [
    "if qf > 1000:\n",
    "    print('Value of parameter q is:', (qf * (1j)))\n",
    "    raise Warning('Change either epsilon or k, to reduce the size of q. The current code only works for values q>1000i')\n",
    "print('Value of parameter q is:', (qf * (1j)))"
   ]
  },
  {
   "cell_type": "code",
   "execution_count": null,
   "metadata": {},
   "outputs": [],
   "source": [
    "print('Mode of initial condition (k_0):', k)"
   ]
  },
  {
   "cell_type": "markdown",
   "metadata": {},
   "source": [
    "## Evaluate Mathieu Eigenvalue System \n"
   ]
  },
  {
   "cell_type": "code",
   "execution_count": null,
   "metadata": {},
   "outputs": [],
   "source": [
    "N = 25  # matrix size \n",
    "As = A_coefficients(Q, N, 'even', 'one')\n",
    "Eig_fns = mfs.ce_even(Q, y, N, As=As)"
   ]
  },
  {
   "cell_type": "markdown",
   "metadata": {},
   "source": [
    "## Initialize a list of Mathieu Eigenfns with correct size"
   ]
  },
  {
   "cell_type": "code",
   "execution_count": null,
   "metadata": {},
   "outputs": [],
   "source": [
    "CE = []  # Initialize list containing Mathieu Eigenfunctions\n",
    "for n in range(N // 2):\n",
    "    ce = np.repeat(Eig_fns['ce'+str(2 * n)][:, :, np.newaxis], Nx, axis=2)\n",
    "    CE.append(ce)"
   ]
  },
  {
   "cell_type": "markdown",
   "metadata": {},
   "source": [
    "## Construct the solution to the IVP"
   ]
  },
  {
   "cell_type": "code",
   "execution_count": null,
   "metadata": {},
   "outputs": [],
   "source": [
    "## Initialize the array\n",
    "CE2n = 0\n",
    "for n in range(N//2):\n",
    "    CE2n = CE2n + 2 * As['A'+str(2 * n)][-1, 0] * CE[n][-1, :, :]\n",
    "T0 = np.real(np.exp((k * X) * (1j)) * CE2n)\n",
    "T0 = T0[np.newaxis, :]\n",
    "\n",
    "\n",
    "## Add temporal contribution\n",
    "for i in range(1, len(t)):\n",
    "    CE2n = 0\n",
    "    for n in range(N//2):\n",
    "        CE2n = CE2n + 2 * As['A'+str(2 * n)][-1, 0] * CE[n][-1, :, :] * np.exp(-(0.25 * As['a'+str(2 * n)][-1] + k**2) * t[i])\n",
    "    t0 = np.real(np.exp((k * X) * (1j)) * CE2n)\n",
    "    t0 = t0[np.newaxis, :]\n",
    "    T0 = np.append(T0, t0, axis=0)"
   ]
  },
  {
   "cell_type": "markdown",
   "metadata": {},
   "source": [
    "## Make Animation"
   ]
  },
  {
   "cell_type": "code",
   "execution_count": null,
   "metadata": {},
   "outputs": [],
   "source": [
    "coords = {\"time\": t, \n",
    "          \"y\": y, \n",
    "          \"x\": x}\n",
    "Temp = xr.DataArray(T0, coords=coords, dims=[\"time\", 'y', 'x'])\n",
    "ds = xr.Dataset({'Theta': Temp})"
   ]
  },
  {
   "cell_type": "code",
   "execution_count": null,
   "metadata": {},
   "outputs": [],
   "source": [
    "%%output holomap='scrubber'\n",
    "%%opts Image style(cmap='PRGn') plot[colorbar=True]\n",
    "%%opts Image [width=600, height=450]\n",
    "hv_ds = hv.Dataset(ds.Theta.isel(time=slice(0, -1, 4), x=slice(0,-1, 2)))\n",
    "hv_ds.to(hv.Image, ['x', 'y'])"
   ]
  },
  {
   "cell_type": "code",
   "execution_count": null,
   "metadata": {},
   "outputs": [],
   "source": []
  }
 ],
 "metadata": {
  "kernelspec": {
   "display_name": "Python 3",
   "language": "python",
   "name": "python3"
  },
  "language_info": {
   "codemirror_mode": {
    "name": "ipython",
    "version": 3
   },
   "file_extension": ".py",
   "mimetype": "text/x-python",
   "name": "python",
   "nbconvert_exporter": "python",
   "pygments_lexer": "ipython3",
   "version": "3.7.8"
  }
 },
 "nbformat": 4,
 "nbformat_minor": 4
}
