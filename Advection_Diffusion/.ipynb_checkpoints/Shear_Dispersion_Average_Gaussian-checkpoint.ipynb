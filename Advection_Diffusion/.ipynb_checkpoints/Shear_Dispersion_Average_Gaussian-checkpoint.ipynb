{
 "cells": [
  {
   "cell_type": "markdown",
   "metadata": {},
   "source": [
    "# Solution to the Initial Value Problem:\n",
    "\n",
    "\\begin{equation}\n",
    "\\epsilon\\frac{\\partial \\theta}{\\partial t} + \\cos{(y)}\\frac{\\partial\\theta}{\\partial x} = \\frac{1}{Pe}\\frac{\\partial^2\\theta}{\\partial x^2} + \\epsilon\\frac{\\partial^2\\theta}{\\partial y^2}\n",
    "\\end{equation}\n",
    "\n",
    "in the domain $0<y<2\\pi$, $-\\alpha \\pi < x < \\alpha \\pi$, $t>0$ with $\\alpha>>1$\n",
    "\n",
    "with initial condition\n",
    "\n",
    "\\begin{equation}\n",
    "\\theta(x, y, 0) = \\theta_{0}\\exp{(-x^2/\\sigma^2)}\n",
    "\\end{equation}\n",
    "\n",
    "\n",
    "### We only calculate the average solution below\n",
    "\n"
   ]
  },
  {
   "cell_type": "code",
   "execution_count": null,
   "metadata": {},
   "outputs": [],
   "source": [
    "import matplotlib.pyplot as plt\n",
    "import numpy as np\n",
    "from matplotlib import gridspec"
   ]
  },
  {
   "cell_type": "code",
   "execution_count": null,
   "metadata": {},
   "outputs": [],
   "source": [
    "from mathieu_functions import mathieu_functions as mfs\n",
    "from mathieu_functions import A_coefficients"
   ]
  },
  {
   "cell_type": "code",
   "execution_count": null,
   "metadata": {},
   "outputs": [],
   "source": [
    "# =================================\n",
    "# Important parameters to define\n",
    "# =================================\n",
    "L = np.pi # Half of channel width (y-direction)\n",
    "N = 200  # length of k-array\n",
    "alpha = 8  # length of channel periodic in x. I have used alpha=10 before, but for the gaussian initial condition a value of 2 is better.\n",
    "Nx = 2500  # length of x-array\n",
    "sigma=0.5  # changes width of gaussian\n",
    "\n",
    "eps = 0.05  # ta / td << 1 for weakly diffusive processes.\n",
    "Pe = 1/eps  # Peclet number  (I have been considering it as infinite. but a finite value should affect the x-decay of solution)\n",
    "\n",
    "x = np.linspace(-alpha * L, alpha * L, Nx)\n",
    "y = np.linspace(0, 2 * L, Nx//5)\n",
    "X, Y = np.meshgrid(x, y)\n",
    "\n",
    "K = np.arange(0, N / alpha, 1 / alpha)  # wavenumber array.\n",
    "K_test = np.linspace(0, N/alpha, 200)\n",
    "Q = 2 * (1j) * K / eps  # Canonical Mathieu parameter\n",
    "Q_test = (1j) * K_test / (8*eps)\n",
    "qf = Q[-1].imag  # Largest value of Mathieu's parameter. SHOULD NOT exceed 62, for now...\n",
    "\n",
    "M = 75  # matrix size. This value works well for values of q up to 62i.\n",
    "Nq = N\n",
    "\n",
    "t = np.linspace(0, 1.25, 250)\n",
    "colors = ['#0000cc', '#990000', 'darkgreen',\n",
    "          'indigo', '#009999', 'orange',\n",
    "          '#ff66ff', '#b266ff', '#33ff99']\n",
    "T0_levs = np.linspace(0, 1, 1000)"
   ]
  },
  {
   "cell_type": "code",
   "execution_count": null,
   "metadata": {},
   "outputs": [],
   "source": [
    "print('Last element of K, q, size(q)')\n",
    "K[-1], Q[-1], len(Q)"
   ]
  },
  {
   "cell_type": "markdown",
   "metadata": {},
   "source": [
    "## Calculate Mathieu Eigenfunctions and Eigenvals\n",
    "\n",
    "We don't need to calculate the Eigenfunctions, as we are only interested in calculated the averaged (exact) solution. We only\n",
    "need the eigenvalues $a_{2n}$ and the Fourier Coefficients $A_{2r}^{(2n)}$."
   ]
  },
  {
   "cell_type": "code",
   "execution_count": null,
   "metadata": {},
   "outputs": [],
   "source": [
    "A_vals = A_coefficients(Q, M, 'even', 'one')  # even function with period one-pi"
   ]
  },
  {
   "cell_type": "code",
   "execution_count": null,
   "metadata": {},
   "outputs": [],
   "source": [
    "fig, ax = plt.subplots(figsize=(20, 8))\n",
    "gs = gridspec.GridSpec(3,2)\n",
    "gs.update(hspace=0.05)\n",
    "ax1 = plt.subplot(gs[4])\n",
    "plt.plot(Q.imag, A_vals['a24'].real,'k', lw=4, label='n=12')\n",
    "plt.plot(Q.imag, A_vals['a26'].real, '#808080', lw=4, label='n=13')\n",
    "plt.xlim(Q[0].imag, Q[-1].imag)\n",
    "# plt.ylim(0, 10)\n",
    "plt.yticks(size=15)\n",
    "plt.xlabel('q', fontsize=25)\n",
    "plt.xticks(size=15)\n",
    "plt.legend(fontsize=20, frameon=False)\n",
    "ax2 = plt.subplot(gs[5])\n",
    "plt.plot(Q.imag, A_vals['a24'].imag, 'k', lw=4, ls='--', label='n=12')\n",
    "plt.plot(Q.imag, A_vals['a26'].imag, '#808080', lw=4, ls='--', label='n=13')\n",
    "plt.xlim(Q[0].imag, Q[-1].imag)\n",
    "plt.yticks(size=15)\n",
    "plt.xlabel('q', fontsize=25)\n",
    "plt.xticks(size=15)\n",
    "ax3 = plt.subplot(gs[2])\n",
    "plt.plot(Q.imag, A_vals['a28'].real, 'k', lw=4, label='n=14')\n",
    "plt.plot(Q.imag, A_vals['a30'].real, '#808080', lw=4, label='n=15')\n",
    "plt.xlim(Q[0].imag, Q[-1].imag)\n",
    "plt.yticks(size=15)\n",
    "plt.legend(fontsize=20, frameon=False)\n",
    "plt.setp(ax3.get_xticklabels(), visible=False)\n",
    "ax4 = plt.subplot(gs[3])\n",
    "plt.plot(Q.imag, A_vals['a28'].imag, 'k', lw=4, ls='--', label='n=14')\n",
    "plt.plot(Q.imag, A_vals['a30'].imag, '#808080',lw=4, ls='--', label='n=15')\n",
    "plt.xlim(Q[0].imag, Q[-1].imag)\n",
    "plt.yticks(size=15)\n",
    "plt.setp(ax4.get_xticklabels(), visible=False)\n",
    "# plt.legend(fontsize=20, frameon=False)\n",
    "ax5 = plt.subplot(gs[0])\n",
    "plt.plot(Q.imag, A_vals['a32'].real, 'k', lw=4, label='n=16')\n",
    "plt.plot(Q.imag, A_vals['a34'].real, '#808080', lw=4, label='n=17')\n",
    "plt.xlim(Q[0].imag, Q[-1].imag)\n",
    "plt.yticks(size=15)\n",
    "plt.legend(fontsize=20, frameon=False)\n",
    "plt.setp(ax5.get_xticklabels(), visible=False)\n",
    "plt.title(r'$Re(a_{2n})$', fontsize=25)\n",
    "ax6 = plt.subplot(gs[1])\n",
    "plt.plot(Q.imag, A_vals['a32'].imag, 'k', lw=4, ls='--', label='n=16')\n",
    "plt.plot(Q.imag, A_vals['a34'].imag, '#808080', lw=4, ls='--', label='n=17')\n",
    "plt.xlim(Q[0].imag, Q[-1].imag)\n",
    "plt.yticks(size=15)\n",
    "plt.setp(ax6.get_xticklabels(), visible=False)\n",
    "plt.title(r'$Im(a_{2n})$', fontsize=25)\n",
    "plt.show()"
   ]
  },
  {
   "cell_type": "code",
   "execution_count": null,
   "metadata": {},
   "outputs": [],
   "source": [
    "fig, ax = plt.subplots(figsize=(20, 8))\n",
    "gs = gridspec.GridSpec(3,2)\n",
    "gs.update(hspace=0.05)\n",
    "ax1 = plt.subplot(gs[4])\n",
    "plt.plot(Q.imag, A_vals['a12'].real,'k', lw=4, label='n=6')\n",
    "plt.plot(Q.imag, A_vals['a14'].real, '#808080', lw=4, label='n=7')\n",
    "plt.xlim(Q[0].imag, Q[-1].imag)\n",
    "# plt.ylim(0, 10)\n",
    "plt.yticks(size=15)\n",
    "plt.xlabel('q', fontsize=25)\n",
    "plt.xticks(size=15)\n",
    "plt.legend(fontsize=20, frameon=False)\n",
    "ax2 = plt.subplot(gs[5])\n",
    "plt.plot(Q.imag, A_vals['a12'].imag, 'k', lw=4, ls='--', label='n=6')\n",
    "plt.plot(Q.imag, A_vals['a14'].imag, '#808080', lw=4, ls='--', label='n=7')\n",
    "plt.xlim(Q[0].imag, Q[-1].imag)\n",
    "plt.yticks(size=15)\n",
    "plt.xlabel('q', fontsize=25)\n",
    "plt.xticks(size=15)\n",
    "ax3 = plt.subplot(gs[2])\n",
    "plt.plot(Q.imag, A_vals['a16'].real, 'k', lw=4, label='n=8')\n",
    "plt.plot(Q.imag, A_vals['a18'].real, '#808080', lw=4, label='n=9')\n",
    "plt.xlim(Q[0].imag, Q[-1].imag)\n",
    "plt.yticks(size=15)\n",
    "plt.legend(fontsize=20, frameon=False)\n",
    "plt.setp(ax3.get_xticklabels(), visible=False)\n",
    "ax4 = plt.subplot(gs[3])\n",
    "plt.plot(Q.imag, A_vals['a16'].imag, 'k', lw=4, ls='--', label='n=8')\n",
    "plt.plot(Q.imag, A_vals['a18'].imag, '#808080',lw=4, ls='--', label='n=9')\n",
    "plt.xlim(Q[0].imag, Q[-1].imag)\n",
    "plt.yticks(size=15)\n",
    "plt.setp(ax4.get_xticklabels(), visible=False)\n",
    "# plt.legend(fontsize=20, frameon=False)\n",
    "ax5 = plt.subplot(gs[0])\n",
    "plt.plot(Q.imag, A_vals['a20'].real, 'k', lw=4, label='n=10')\n",
    "plt.plot(Q.imag, A_vals['a22'].real, '#808080', lw=4, label='n=11')\n",
    "plt.xlim(Q[0].imag, Q[-1].imag)\n",
    "plt.yticks(size=15)\n",
    "plt.legend(fontsize=20, frameon=False)\n",
    "plt.setp(ax5.get_xticklabels(), visible=False)\n",
    "plt.title(r'$Re(a_{2n})$', fontsize=25)\n",
    "ax6 = plt.subplot(gs[1])\n",
    "plt.plot(Q.imag, A_vals['a20'].imag, 'k', lw=4, ls='--', label='n=10')\n",
    "plt.plot(Q.imag, A_vals['a22'].imag, '#808080', lw=4, ls='--', label='n=11')\n",
    "plt.xlim(Q[0].imag, Q[-1].imag)\n",
    "plt.yticks(size=15)\n",
    "plt.setp(ax6.get_xticklabels(), visible=False)\n",
    "plt.title(r'$Im(a_{2n})$', fontsize=25)\n",
    "plt.show()"
   ]
  },
  {
   "cell_type": "code",
   "execution_count": null,
   "metadata": {},
   "outputs": [],
   "source": [
    "fig, ax = plt.subplots(figsize=(20, 8))\n",
    "gs = gridspec.GridSpec(3,2)\n",
    "gs.update(hspace=0.05)\n",
    "ax1 = plt.subplot(gs[4])\n",
    "plt.plot(Q.imag, A_vals['a0'].real, color=colors[0], lw=4, label='n=0')\n",
    "plt.plot(Q.imag, A_vals['a2'].real, color=colors[1], lw=4, label='n=1')\n",
    "plt.xlim(0, qf)\n",
    "plt.ylim(0, 10)\n",
    "plt.yticks(size=15)\n",
    "plt.xlabel('q', fontsize=25)\n",
    "plt.xticks(size=15)\n",
    "plt.legend(fontsize=20, frameon=False)\n",
    "ax2 = plt.subplot(gs[5])\n",
    "plt.plot(Q.imag, A_vals['a0'].imag, color=colors[0], lw=4, ls='--', label='n=0')\n",
    "plt.plot(Q.imag, A_vals['a2'].imag, color=colors[1], lw=4, ls='--', label='n=1')\n",
    "plt.xlim(0, qf)\n",
    "plt.yticks(size=15)\n",
    "plt.xlabel('q', fontsize=25)\n",
    "plt.xticks(size=15)\n",
    "ax3 = plt.subplot(gs[2])\n",
    "plt.plot(Q.imag, A_vals['a4'].real, color=colors[2], lw=4, label='n=2')\n",
    "plt.plot(Q.imag, A_vals['a6'].real, color=colors[3], lw=4, label='n=3')\n",
    "plt.xlim(0, qf)\n",
    "plt.yticks(size=15)\n",
    "plt.legend(fontsize=20, frameon=False)\n",
    "plt.setp(ax3.get_xticklabels(), visible=False)\n",
    "ax4 = plt.subplot(gs[3])\n",
    "plt.plot(Q.imag, A_vals['a4'].imag, color=colors[2], lw=4, ls='--', label='n=2')\n",
    "plt.plot(Q.imag, A_vals['a6'].imag, color=colors[3], lw=4, ls='--', label='n=3')\n",
    "plt.xlim(0, qf)\n",
    "plt.yticks(size=15)\n",
    "plt.setp(ax4.get_xticklabels(), visible=False)\n",
    "# plt.legend(fontsize=20, frameon=False)\n",
    "ax5 = plt.subplot(gs[0])\n",
    "plt.plot(Q.imag, A_vals['a8'].real, color=colors[4], lw=4, label='n=4')\n",
    "plt.plot(Q.imag, A_vals['a10'].real, color=colors[5], lw=4, label='n=5')\n",
    "plt.xlim(0, qf)\n",
    "plt.yticks(size=15)\n",
    "plt.legend(fontsize=20, frameon=False)\n",
    "plt.setp(ax5.get_xticklabels(), visible=False)\n",
    "plt.title(r'$Re(a_{2n})$', fontsize=25)\n",
    "ax6 = plt.subplot(gs[1])\n",
    "plt.plot(Q.imag, A_vals['a8'].imag, color=colors[4], lw=4, ls='--', label='n=4')\n",
    "plt.plot(Q.imag, A_vals['a10'].imag, color=colors[5], lw=4, ls='--', label='n=5')\n",
    "plt.xlim(0, qf)\n",
    "plt.yticks(size=15)\n",
    "plt.setp(ax6.get_xticklabels(), visible=False)\n",
    "plt.title(r'$Im(a_{2n})$', fontsize=25)\n",
    "plt.show()"
   ]
  },
  {
   "cell_type": "markdown",
   "metadata": {},
   "source": [
    "## Create Ordered Lists"
   ]
  },
  {
   "cell_type": "code",
   "execution_count": null,
   "metadata": {},
   "outputs": [],
   "source": [
    "OM = []\n",
    "AA = []\n",
    "for k in range(M // 2):\n",
    "    OM.append(0.25*np.copy(A_vals['a' + str(2 * k)]))\n",
    "    AA.append(np.copy(A_vals['A' + str(2 * k)][:, 0]))\n",
    "\n",
    "\n",
    "COS = [np.exp(K[i] * x*(1j)) for i in range(N)]"
   ]
  },
  {
   "cell_type": "markdown",
   "metadata": {},
   "source": [
    "## Gaussian Initial condition"
   ]
  },
  {
   "cell_type": "code",
   "execution_count": null,
   "metadata": {},
   "outputs": [],
   "source": [
    "G = np.exp(-(x/sigma)**2)"
   ]
  },
  {
   "cell_type": "code",
   "execution_count": null,
   "metadata": {},
   "outputs": [],
   "source": [
    "fac = np.sqrt(np.pi)*sigma/(2*L)\n",
    "arg = ((2 * L) / (np.pi*sigma))**2\n",
    "cn = []\n",
    "for n in range(N):\n",
    "    cn.append(fac * np.exp(-K[n]**2/(arg**2)))"
   ]
  },
  {
   "cell_type": "markdown",
   "metadata": {},
   "source": [
    "## Initial condition (Mathieu Functions Expansion) \n",
    "\n",
    "Mathieu Functions are contained in a list ```CEE```, with the zeroth Fourier Coefficients that determine these Mathieu Functions contained in another list: ```AA```.\n"
   ]
  },
  {
   "cell_type": "code",
   "execution_count": null,
   "metadata": {},
   "outputs": [],
   "source": [
    "SUM = [2 * (AA[r][0]**2) for r in range(len(AA))]\n",
    "SUM = np.sum(np.array(SUM), axis=0)\n",
    "coeff = [SUM * cn[0] * COS[0]]\n",
    "for k in range(1, N):\n",
    "    SUM = [2 * (AA[r][k]**2) for r in range(len(AA))]\n",
    "    SUM = np.sum(np.array(SUM), axis=0)  # r-sum\n",
    "    coeff.append(cn[k] * SUM * COS[k])"
   ]
  },
  {
   "cell_type": "code",
   "execution_count": null,
   "metadata": {},
   "outputs": [],
   "source": [
    "T0 = ((0.25)*sigma**2)*np.sum(coeff, axis=0).real # k-sum"
   ]
  },
  {
   "cell_type": "code",
   "execution_count": null,
   "metadata": {},
   "outputs": [],
   "source": [
    "fig, ax = plt.subplots(figsize=(12, 8))\n",
    "plt.plot(x, T0, 'darkred', lw=3)\n",
    "plt.plot(x, np.exp(-x**2/(sigma/2)**2), color='#606060', ls='--', lw=2)\n",
    "plt.xlim(-2*L, 2*L)\n",
    "plt.xticks(size=15)\n",
    "plt.yticks(size=15)\n",
    "plt.xlabel('x', fontsize=25)\n",
    "# plt.ylabel(r'$\\theta(x, y, 0)$', fontsize=25, rotation=0, labelpad=40)\n",
    "ax.annotate(r'$\\theta(x, y, 0)$', xy=(-6, 0.875), xytext=(-6, 0.875), fontsize=35)\n",
    "plt.title('Initial Condition', fontsize=15)\n",
    "plt.show()"
   ]
  },
  {
   "cell_type": "markdown",
   "metadata": {},
   "source": [
    "## Now, add the rest of the temporal evolution"
   ]
  },
  {
   "cell_type": "code",
   "execution_count": null,
   "metadata": {},
   "outputs": [],
   "source": [
    "T0 = T0[np.newaxis, :]"
   ]
  },
  {
   "cell_type": "code",
   "execution_count": null,
   "metadata": {},
   "outputs": [],
   "source": [
    "for i in range(1, len(t)):\n",
    "    SUM = [2 * (AA[r][0]**2) * np.exp(-(OM[r][0] + K[0]**2)*t[i]) for r in range(len(AA))]\n",
    "    SUM = np.sum(np.array(SUM), axis=0)\n",
    "    coeff = [SUM * cn[0] * COS[0]]\n",
    "    for k in range(1, N):\n",
    "        SUM = [2 * (AA[r][k]**2) * np.exp(-(OM[r][k]+K[k]**2)*t[i]) for r in range(len(AA))]\n",
    "        SUM = np.sum(np.array(SUM), axis=0)  # r-sum\n",
    "        coeff.append(cn[k] * SUM * COS[k])\n",
    "    t0 = (0.25 * sigma**2)*np.sum(coeff, axis=0).real # k-sum\n",
    "    t0 = t0[np.newaxis, :]\n",
    "    T0 = np.append(T0, t0, axis=0)"
   ]
  },
  {
   "cell_type": "markdown",
   "metadata": {},
   "source": [
    "## Hovmoeller plot of (cross-channel) mean solution to the Advection Diffusion Equation"
   ]
  },
  {
   "cell_type": "code",
   "execution_count": null,
   "metadata": {},
   "outputs": [],
   "source": [
    "T, Xt = np.meshgrid(x, t)"
   ]
  },
  {
   "cell_type": "code",
   "execution_count": null,
   "metadata": {},
   "outputs": [],
   "source": [
    "cmap='nipy_spectral'\n",
    "fig, ax = plt.subplots(figsize=(14, 8))\n",
    "cf=plt.contourf(T, Xt, T0,  levels=np.linspace(0, 0.5, 1000), cmap=cmap)\n",
    "plt.xticks(size=15)\n",
    "plt.yticks(size=15)\n",
    "# plt.ylim(0, .2)\n",
    "plt.xlabel('x', fontsize=25)\n",
    "plt.xlim(-alpha * L, alpha * L)\n",
    "plt.ylabel(r'$\\frac{t}{t_{d}}$', fontsize=35, rotation=0, labelpad = 35)\n",
    "cbaxes = fig.add_axes([0.675, 0.935, 0.225, 0.03])\n",
    "clb1 = plt.colorbar(cf,cax=cbaxes,ticks=[0, 0.25, 0.5],orientation='horizontal')\n",
    "clb1.ax.tick_params(labelsize=15)\n",
    "plt.show()"
   ]
  },
  {
   "cell_type": "code",
   "execution_count": null,
   "metadata": {},
   "outputs": [],
   "source": []
  }
 ],
 "metadata": {
  "kernelspec": {
   "display_name": "Python 3",
   "language": "python",
   "name": "python3"
  },
  "language_info": {
   "codemirror_mode": {
    "name": "ipython",
    "version": 3
   },
   "file_extension": ".py",
   "mimetype": "text/x-python",
   "name": "python",
   "nbconvert_exporter": "python",
   "pygments_lexer": "ipython3",
   "version": "3.7.8"
  }
 },
 "nbformat": 4,
 "nbformat_minor": 4
}
