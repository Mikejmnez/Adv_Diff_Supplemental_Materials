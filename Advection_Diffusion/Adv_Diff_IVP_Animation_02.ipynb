{
 "cells": [
  {
   "cell_type": "markdown",
   "metadata": {},
   "source": [
    "## Shear Dispersion Initial Value Problem Solution with Localized Initial Condition\n",
    "\n",
    "The differential equation is\n",
    "\\begin{equation}\n",
    "\\epsilon\\frac{\\partial\\theta}{\\partial t} + \\cos{(y)}\\frac{\\partial\\theta}{\\partial x} = \\frac{1}{Pe}\\frac{\\partial^2\\theta}{\\partial x^2} + \\epsilon\\frac{\\partial^2\\theta}{\\partial y^2} ,\n",
    "\\end{equation}\n",
    "\n",
    "with an initial condition given by a Gaussian centered at $x=0$.\n",
    "The problem is solved by synthesizing the initial condition as a Fourier cosine series and using the exact solution for a cosine initial condition (see `Adv_Diff_IVP_01.ipynb`).\n",
    "\n"
   ]
  },
  {
   "cell_type": "code",
   "execution_count": null,
   "metadata": {},
   "outputs": [],
   "source": [
    "import numpy as np\n",
    "import xarray as xr\n",
    "import matplotlib.pyplot as plt\n",
    "import holoviews as hv\n",
    "hv.extension('bokeh')"
   ]
  },
  {
   "cell_type": "code",
   "execution_count": null,
   "metadata": {},
   "outputs": [],
   "source": [
    "from mathieu_functions import A_coefficients\n",
    "from mathieu_functions import mathieu_functions as mfs"
   ]
  },
  {
   "cell_type": "code",
   "execution_count": null,
   "metadata": {},
   "outputs": [],
   "source": [
    "# =================================\n",
    "# Important parameters to define\n",
    "# =================================\n",
    "M = 1 # Channel width (y-direction)\n",
    "alpha = 25  # length of channel periodic in x\n",
    "Nk = 50  # Length of k-array (Truncated x-Fourier series of the initial condition).\n",
    "Nx = 10 * Nk  # Grid resolution in x.\n",
    "sigma = 1  # Width of gaussian\n",
    "\n",
    "Pe = 200\n",
    "\n",
    "x = np.linspace(-alpha * (np.pi * M), alpha * (np.pi * M), Nx)\n",
    "y = np.linspace(0, (np.pi * M), Nx // 5)  # \\tilde{y} in paper.\n",
    "X, Y = np.meshgrid(x, y)\n",
    "\n",
    "K = np.arange(0, Nk / alpha, 1 / alpha)  # wavenumber array.\n",
    "Q = (1j) * 2 * K * Pe  # Canonical Mathieu parameter\n",
    "qf = Q[-1].imag  # Largest value of Mathieu's parameter. \n",
    "\n",
    "# =============================\n",
    "N = 50  # matrix size --- determines the number of eigenfunctions and eigenvalues in the truncated system\n",
    "# =============================\n",
    "\n",
    "t = np.linspace(0, .25, 100)"
   ]
  },
  {
   "cell_type": "code",
   "execution_count": null,
   "metadata": {},
   "outputs": [],
   "source": [
    "K"
   ]
  },
  {
   "cell_type": "code",
   "execution_count": null,
   "metadata": {},
   "outputs": [],
   "source": [
    "if qf > 1000:\n",
    "    print('Value of parameter q is:', (qf * (1j)))\n",
    "    raise Warning('Change either epsilon or k, to reduce the size of q. The current code only works for values q>1000i')\n",
    "print('Value of parameter q is:', (qf * (1j)))"
   ]
  },
  {
   "cell_type": "code",
   "execution_count": null,
   "metadata": {},
   "outputs": [],
   "source": [
    "A_vals = A_coefficients(Q, N, 'even', 'one')\n",
    "vals = mfs.ce_even(Q, y, N, As=A_vals)"
   ]
  },
  {
   "cell_type": "markdown",
   "metadata": {},
   "source": [
    "## Mathieu functions\n",
    "\n",
    "Creates a list with the right size"
   ]
  },
  {
   "cell_type": "code",
   "execution_count": null,
   "metadata": {},
   "outputs": [],
   "source": [
    "CE = []  # Initialize list containing Mathieu functions\n",
    "for k in range(N // 2):\n",
    "    ce = np.repeat(vals['ce'+str(2 * k)][:, :, np.newaxis], Nx, axis=2)\n",
    "    CE.append(ce)\n",
    "\n",
    "COS = [np.exp(K[i] * X *(1j)) for i in range(Nk)]"
   ]
  },
  {
   "cell_type": "code",
   "execution_count": null,
   "metadata": {},
   "outputs": [],
   "source": [
    "del ce"
   ]
  },
  {
   "cell_type": "markdown",
   "metadata": {},
   "source": [
    "## Fourier Coefficients for the $x$-Fourier approximation of the initial condition"
   ]
  },
  {
   "cell_type": "code",
   "execution_count": null,
   "metadata": {},
   "outputs": [],
   "source": [
    "fac = sigma/alpha\n",
    "cn = []\n",
    "for n in range(Nk):\n",
    "    cn.append(fac * np.exp(-((sigma) * K[n])**2))"
   ]
  },
  {
   "cell_type": "markdown",
   "metadata": {},
   "source": [
    "## Define a function to construct the solution "
   ]
  },
  {
   "cell_type": "code",
   "execution_count": null,
   "metadata": {},
   "outputs": [],
   "source": [
    "def evolve_ds(As, CE, K, cn, sigma, X, Y, t):\n",
    "    \"\"\"Constructs the solution to the IVP\"\"\"\n",
    "    ## Initialize the array\n",
    "    coords = {\"time\": t, \n",
    "              \"y\": 2 * Y[:, 0], \n",
    "              \"x\": X[0, :]}\n",
    "    Temp = xr.DataArray(np.nan, coords=coords, dims=[\"time\", 'y', 'x'])\n",
    "    ds = xr.Dataset({'Theta': Temp})\n",
    "    N = len(K)\n",
    "    for i in range(len(t)):\n",
    "        print(i)\n",
    "        coeff=[]\n",
    "        for k in range(N):\n",
    "            CE2n = [2 * As['A'+str(2*r)][k, 0] * CE[r][k, :, :] * np.exp(-(0.25*As['a'+str(2*r)][k] + K[k]**2)*t[i]) for r in range(len(CE))]\n",
    "            CE2n = sum(CE2n) # r-sum\n",
    "            coeff.append(cn[k] * CE2n * COS[k])\n",
    "        T0 = np.sum(coeff, axis=0).real # k-sum\n",
    "        ds['Theta'].data[i, :, :] = T0\n",
    "    return ds"
   ]
  },
  {
   "cell_type": "markdown",
   "metadata": {},
   "source": [
    "## Construct solution\n",
    "\n",
    "Can take some time. Counter must reach 100\n"
   ]
  },
  {
   "cell_type": "code",
   "execution_count": null,
   "metadata": {},
   "outputs": [],
   "source": [
    "ds = evolve_ds(A_vals, CE, K, cn, sigma, X, Y, t)"
   ]
  },
  {
   "cell_type": "code",
   "execution_count": null,
   "metadata": {},
   "outputs": [],
   "source": [
    "del CE  # frees up memory"
   ]
  },
  {
   "cell_type": "markdown",
   "metadata": {},
   "source": [
    "## Plot animation"
   ]
  },
  {
   "cell_type": "code",
   "execution_count": null,
   "metadata": {},
   "outputs": [],
   "source": [
    "%%output holomap='scrubber'\n",
    "%%opts Image style(cmap='nipy_spectral') plot[colorbar=True]\n",
    "%%opts Image [width=600, height=450]\n",
    "hv_ds = hv.Dataset(ds.Theta)\n",
    "hv_ds.to(hv.Image, ['x', 'y'])"
   ]
  },
  {
   "cell_type": "markdown",
   "metadata": {},
   "source": [
    "## Now calculate the cross-channel mean evolution"
   ]
  },
  {
   "cell_type": "code",
   "execution_count": null,
   "metadata": {},
   "outputs": [],
   "source": [
    "Time, Xt = np.meshgrid(x, t)"
   ]
  },
  {
   "cell_type": "code",
   "execution_count": null,
   "metadata": {},
   "outputs": [],
   "source": [
    "Tm = np.trapz(ds.Theta, axis=1) * y[1] / np.pi"
   ]
  },
  {
   "cell_type": "code",
   "execution_count": null,
   "metadata": {},
   "outputs": [],
   "source": [
    "fig, ax = plt.subplots(figsize=(14, 8), facecolor='w')\n",
    "cf=plt.contourf(Time, Xt, Tm,  levels=np.linspace(0, 1, 100), cmap='nipy_spectral')\n",
    "plt.xticks(size=15)\n",
    "plt.yticks([0, .1, .2], size=15)\n",
    "plt.ylim(0, 0.2)\n",
    "plt.xlabel('x', fontsize=25)\n",
    "plt.xlim(x[0], x[-1])\n",
    "plt.ylabel(r'$t$', fontsize=35, rotation=0, labelpad = 35)\n",
    "cbaxes = fig.add_axes([0.675, 0.935, 0.225, 0.03])\n",
    "clb1 = plt.colorbar(cf,cax=cbaxes,ticks=[0, 0.5, 1],orientation='horizontal')\n",
    "clb1.ax.tick_params(labelsize=15)\n",
    "plt.show()"
   ]
  },
  {
   "cell_type": "code",
   "execution_count": null,
   "metadata": {},
   "outputs": [],
   "source": []
  }
 ],
 "metadata": {
  "kernelspec": {
   "display_name": "Python 3",
   "language": "python",
   "name": "python3"
  },
  "language_info": {
   "codemirror_mode": {
    "name": "ipython",
    "version": 3
   },
   "file_extension": ".py",
   "mimetype": "text/x-python",
   "name": "python",
   "nbconvert_exporter": "python",
   "pygments_lexer": "ipython3",
   "version": "3.7.8"
  }
 },
 "nbformat": 4,
 "nbformat_minor": 4
}
