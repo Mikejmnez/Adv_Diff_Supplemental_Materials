{
 "cells": [
  {
   "cell_type": "markdown",
   "metadata": {},
   "source": [
    "# IVP Solution for a single Mode:\n",
    "\n",
    "\n",
    "Solution is given by\n",
    "\n",
    "\\begin{equation}\n",
    "\\epsilon\\frac{\\partial\\theta}{\\partial t} + \\cos{(y)}\\frac{\\partial\\theta}{\\partial x} = \\frac{1}{Pe}\\frac{\\partial^2\\theta}{\\partial x^2} + \\epsilon\\frac{\\partial^2\\theta}{\\partial y^2}\n",
    "\\end{equation}\n",
    "\n",
    "\n",
    "with the initial condition\n",
    "\n",
    "\\begin{equation}\n",
    "\\theta(x, y, 0) = \\cos{(k_{0}x)}\n",
    "\\end{equation}\n",
    "\n",
    "\\begin{equation}\n",
    "\\theta(x, y, t) = \\theta_{0}Re\\left\\{\\sum_{n=0}^{\\infty}2A_{0}^{(2n)}ce_{2n}\\exp{\\left[ ik_{0}x - \\left(\\frac{a_{2n}}{4} + \\frac{k_{0}^2}{\\epsilon Pe} \\right)t\\right]}\\right\\}\n",
    "\\end{equation}\n",
    "\n",
    "\n",
    "\n"
   ]
  },
  {
   "cell_type": "code",
   "execution_count": null,
   "metadata": {},
   "outputs": [],
   "source": [
    "import numpy as np\n",
    "import matplotlib.pyplot as plt\n",
    "import xarray as xr\n",
    "from mathieu_functions import A_coefficients\n",
    "from mathieu_functions import mathieu_functions as mfs"
   ]
  },
  {
   "cell_type": "code",
   "execution_count": null,
   "metadata": {},
   "outputs": [],
   "source": [
    "import holoviews as hv\n",
    "hv.extension('bokeh')"
   ]
  },
  {
   "cell_type": "markdown",
   "metadata": {},
   "source": [
    "# Important parameters to define\n"
   ]
  },
  {
   "cell_type": "code",
   "execution_count": null,
   "metadata": {},
   "outputs": [],
   "source": [
    "# =================================\n",
    "L = np.pi # Half of channel width (y-direction)\n",
    "alpha = 10  # length of channel periodic in x. I have used alpha=10 before, but for the gaussian initial condition a value of 2 is better.\n",
    "Nx = 500  # length of x-array\n",
    "\n",
    "\n",
    "# =============================\n",
    "#  Change only parameters\n",
    "# =============================\n",
    "eps = 0.05\n",
    "k = .1 # lowest possible is 1 / alpha\n",
    "Pe = 1 / eps\n",
    "\n",
    "x = np.linspace(-alpha * L, alpha * L, Nx)\n",
    "y = np.linspace(0, L, Nx//5)\n",
    "X, Y = np.meshgrid(x, y)\n",
    "\n",
    "qf = 2 * k / eps\n",
    "Nq = 100\n",
    "Q = np.linspace(0, qf, Nq)\n",
    "Q = Q * (1j)\n",
    "\n",
    "t = np.linspace(0, 2.5, 200)"
   ]
  },
  {
   "cell_type": "code",
   "execution_count": null,
   "metadata": {},
   "outputs": [],
   "source": [
    "print('Value of parameter q is:', (qf * (1j)))"
   ]
  },
  {
   "cell_type": "code",
   "execution_count": null,
   "metadata": {},
   "outputs": [],
   "source": [
    "print('Mode of initial condition (k_0):', k)"
   ]
  },
  {
   "cell_type": "code",
   "execution_count": null,
   "metadata": {},
   "outputs": [],
   "source": [
    "N = 25  # matrix size\n",
    "A_vals = A_coefficients(Q, N, 'even', 'one')\n",
    "vals = mfs.ce_even(Q, y, N, As=A_vals)"
   ]
  },
  {
   "cell_type": "code",
   "execution_count": null,
   "metadata": {},
   "outputs": [],
   "source": [
    "OM = []  # Initialize list containing Mathieu Eigenvalues\n",
    "AA = []  # Initialize list containing zeroth-Fourier Coefficients \n",
    "CE = []  # Initialize list containing Mathieu Eigenfunctions\n",
    "for n in range(N // 2):\n",
    "    OM.append(0.25*np.copy(A_vals['a' + str(2 * n)]))\n",
    "    AA.append(np.copy(A_vals['A' + str(2 * n)][:, 0]))\n",
    "    ce = np.repeat(vals['ce'+str(2 * n)][:, :, np.newaxis], Nx, axis=2)\n",
    "    CE.append(ce)"
   ]
  },
  {
   "cell_type": "code",
   "execution_count": null,
   "metadata": {},
   "outputs": [],
   "source": [
    "CE2n0 = 0\n",
    "for n in range(N//2):\n",
    "    CE2n0 = CE2n0 + 2 * A_vals['A'+str(2 * n)][-1, 0] * CE[n][-1, :, :]\n",
    "T0 = np.real(np.exp((k * X) * (1j)) * CE2n0)\n",
    "T0 = T0[np.newaxis, :]"
   ]
  },
  {
   "cell_type": "code",
   "execution_count": null,
   "metadata": {},
   "outputs": [],
   "source": [
    "## Add temporal contribution\n",
    "for i in range(1, len(t)):\n",
    "    CE2n = 0\n",
    "    for n in range(N//2):\n",
    "        CE2n = CE2n + 2 * A_vals['A'+str(2 * n)][-1, 0] * CE[n][-1, :, :] * np.exp(-(A_vals['a'+str(2 * n)][-1]/4) * t[i])\n",
    "    t0 = np.real(np.exp((k * X) * (1j)) * CE2n)\n",
    "    t0 = t0[np.newaxis, :]\n",
    "    T0 = np.append(T0, t0, axis=0)"
   ]
  },
  {
   "cell_type": "markdown",
   "metadata": {},
   "source": [
    "## Make Animation"
   ]
  },
  {
   "cell_type": "code",
   "execution_count": null,
   "metadata": {},
   "outputs": [],
   "source": [
    "Temp = xr.DataArray(T0, coords=[t, y, x], dims=[\"time\", 'y', 'x'])\n",
    "ds = xr.Dataset({'Theta': Temp})"
   ]
  },
  {
   "cell_type": "code",
   "execution_count": null,
   "metadata": {},
   "outputs": [],
   "source": [
    "%%output holomap='scrubber'\n",
    "%%opts Image style(cmap='PRGn') plot[colorbar=True]\n",
    "%%opts Image [width=600, height=450]\n",
    "hv_ds = hv.Dataset(ds.Theta.isel(time=slice(0, -1, 4), x=slice(0,-1, 2)))\n",
    "hv_ds.to(hv.Image, ['x', 'y'])"
   ]
  },
  {
   "cell_type": "code",
   "execution_count": null,
   "metadata": {},
   "outputs": [],
   "source": []
  }
 ],
 "metadata": {
  "kernelspec": {
   "display_name": "Python 3",
   "language": "python",
   "name": "python3"
  },
  "language_info": {
   "codemirror_mode": {
    "name": "ipython",
    "version": 3
   },
   "file_extension": ".py",
   "mimetype": "text/x-python",
   "name": "python",
   "nbconvert_exporter": "python",
   "pygments_lexer": "ipython3",
   "version": "3.7.8"
  }
 },
 "nbformat": 4,
 "nbformat_minor": 4
}
