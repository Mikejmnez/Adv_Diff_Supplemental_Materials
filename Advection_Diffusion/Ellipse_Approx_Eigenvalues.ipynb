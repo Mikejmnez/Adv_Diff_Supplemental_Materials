{
 "cells": [
  {
   "cell_type": "markdown",
   "metadata": {},
   "source": [
    "# Eigenvalue Approximation by Ellipse Equation\n",
    "\n",
    "\n",
    "Given an eigenvalue pair $\\Gamma_{l} = \\{a_{2l}, a_{2l+2}\\}$, we approximate the coalescing of the pair at EPs as\n",
    "\n",
    "* Diffusive regime:\n",
    "\n",
    "\\begin{equation}\n",
    "\\Gamma_{l} = \\gamma_{l} \\pm \\frac{\\Delta_{l}}{|q_{l}|}\\sqrt{|q_{l}|^2 - 4k^2 Pe^2}, \\;\\;\\;\\;\\;\\;\\;\\;\\;\\;\\;\\;\\;\\;\\;\\;\\;\\;\\;\\;\\;\\;\\;\\; 2kPe < |q_{l}|\n",
    "\\end{equation}\n",
    "\n",
    "\n",
    "* Dispersive regime:\n",
    "\n",
    "\\begin{equation}\n",
    "\\Gamma_{l} = \\pm \\frac{\\Delta_{l}}{|q_{l}|}\\sqrt{|q_{l}|^2 - 4k^2 Pe^2}, \\;\\;\\;\\;\\;\\;\\;\\;\\;\\;\\;\\;\\;\\;\\;\\;\\;\\;\\;\\;\\;\\;\\;\\;\\;\\;\\;\\;\\;  |q_{l}| < 2kPe < 2|q_{l}|\n",
    "\\end{equation}\n",
    "\n",
    "\n",
    "where:\n",
    "* $q_{l}$ is the Exceptional Point (EP) or the eigenvalue pair.\n",
    "* $\\Delta_{l} = 8l + 2$ is the difference between the eigenvalues that define the pair $\\Gamma_{l}$, evaluated at $q=0$.\n",
    "* $\\gamma_{n} = 16l^2 + 8l + 2$ centers the ellipse between the eigenvalue pair at the line $q=0$.\n",
    "\n",
    "For example, we have for the first three eigenvalue pairs: $q_{0}=1.468i$, $q_{1}=16.471i$, $q_{2}=47.806i$ (in manuscript, these are $q_{l}^{EP}$), $\\Delta_{0}=2$, $\\Delta_{1}=10$, $\\Delta_{2}=18$, and $\\gamma_{0}=2$ and $\\gamma_{1}=26$ and $\\gamma_{2}=82$.\n",
    "\n",
    "### NOTE:\n",
    "The approximation above describes a purely real eigenvalue pair before the Exceptional Point, or a purely imaginary pair of (complex conjugated) Eigenvalues for values of q past the Exceptional Point. Thus, we need to add extra terms for values beyond the EPs. \n",
    "### Solution:\n",
    "We need to add a correction associated with the asymptotic limit $|q|\\rightarrow\\infty$. For the first two pairs of (coalesced) eigenvalues, the asymptotic relations are\n",
    "\n",
    "\n",
    "\\begin{align}\n",
    "\\Gamma_{0} \\sim & \\sqrt{2|q|}-\\frac{1}{4} \\pm i\\left(\\sqrt{2|q|}-2|q| \\right) , \\\\\n",
    " \\Gamma_{2} \\sim & 5\\sqrt{2|q|}-\\frac{13}{4} \\pm i\\left(5\\sqrt{2|q|} - 2|q| \\right) ,\n",
    "\\end{align}\n",
    "\n",
    "\n",
    "where $|q|=2kPe$ is the absolute value of Mathieu's canonical parameter. The correction only involves the real component above.\n",
    "\n",
    "* In general (from Zeiner et al 2012), a good leading order approximation of eigenvalue pairs is\n",
    "\n",
    "\n",
    "\\begin{equation}\n",
    "    \\Gamma_{l} \\approx \\left[4l +1 \\right]\\left[1+i \\right]\\sqrt{2|q|} - 2q - 2l^2 -l -1/4, \\;\\;\\;\\text{for}\\;\\; q{>>}q_{l}\n",
    "\\end{equation}\n",
    "\n"
   ]
  },
  {
   "cell_type": "code",
   "execution_count": null,
   "metadata": {},
   "outputs": [],
   "source": [
    "import matplotlib.pyplot as plt\n",
    "import numpy as np\n",
    "from matplotlib import gridspec"
   ]
  },
  {
   "cell_type": "code",
   "execution_count": null,
   "metadata": {},
   "outputs": [],
   "source": [
    "from mathieu_functions import mathieu_functions as mfs\n",
    "from mathieu_functions import A_coefficients"
   ]
  },
  {
   "cell_type": "code",
   "execution_count": null,
   "metadata": {},
   "outputs": [],
   "source": [
    "# =================================\n",
    "# Important parameters to define\n",
    "# =================================\n",
    "\n",
    "# Location of Exceptional Points\n",
    "ql = [1.466466* (1j), 16.466466* (1j), 47.797797 * (1j) ] # Exceptional Points q_{l}\n",
    "gamma = [2, 26, 82]  # \\Gamma_{l}\n",
    "Delta = [2, 10, 18]  # \\Delta_{l}\n",
    "\n",
    "\n",
    "N = 70  # length of k-array\n",
    "alpha = 2  # length of channel periodic in x. I have used alpha=10 before, but for the gaussian initial condition a value of 2 is better.\n",
    "eps = 0.03  # ta / td << 1 for weakly diffusive processes.\n",
    "\n",
    "K_test = np.linspace(0, N/alpha, 1000)\n",
    "Q = (1j) * K_test / (8*eps)\n",
    "qf = Q[-1].imag  # Largest value of Mathieu's parameter. SHOULD NOT exceed 1000, for now...\n",
    "\n",
    "M = 25  # matrix size. \n",
    "colors = ['#0000cc', '#990000', 'darkgreen',\n",
    "          'indigo', '#009999', 'orange',\n",
    "          '#ff66ff', '#b266ff', '#33ff99']"
   ]
  },
  {
   "cell_type": "code",
   "execution_count": null,
   "metadata": {},
   "outputs": [],
   "source": [
    "print('last value of q-array: ')\n",
    "qf"
   ]
  },
  {
   "cell_type": "code",
   "execution_count": null,
   "metadata": {},
   "outputs": [],
   "source": [
    "A_vals = A_coefficients(Q, M, 'even', 'one')  # even function with period one-pi"
   ]
  },
  {
   "cell_type": "markdown",
   "metadata": {},
   "source": [
    "## First Pair of Eigenvalues and Asymptotic Correction"
   ]
  },
  {
   "cell_type": "code",
   "execution_count": null,
   "metadata": {},
   "outputs": [],
   "source": [
    "l=0  # EP index\n",
    "ls = np.where(Q <= ql[l])[0][-1]\n",
    "l1 = np.where(Q > ql[l])[0][0]\n",
    "l2 = np.where(Q > 2 * ql[l])[0][0]\n",
    "Qs = Q[:ls]\n",
    "Ql = Q[l1:]\n",
    "Ql1 = Q[l1:l2]\n",
    "Ql2 = Q[l2:]\n",
    "\n",
    "# Region I (purely real) \n",
    "a0cs = gamma[l] - (Delta[l]/ql[l].imag)*np.sqrt(-(ql[l])**2 + Qs**2)\n",
    "a2cs = gamma[l] + (Delta[l]/ql[l].imag)*np.sqrt(-(ql[l])**2 + Qs**2)\n",
    "# Region II (purely imag)\n",
    "a0cl1 = - (Delta[l]/ql[l].imag)*np.sqrt(-(ql[l])**2 + Ql1**2)\n",
    "a2cl1 = + (Delta[l]/ql[l].imag)*np.sqrt(-(ql[l])**2 + Ql1**2)\n",
    "# Region III (purely imag)\n",
    "a0cl2 = - 2 * np.sqrt(Ql2**2) + (4*l + 1) * np.sqrt(2*Ql2)\n",
    "a2cl2 = + 2 * np.sqrt(Ql2**2) - (4*l + 1) * np.sqrt(2*Ql2)\n",
    "\n",
    "# Real part not in quadratic approximation (Regions II and III)\n",
    "a02 = (4*l + 1)* np.sqrt(2 * Ql.imag) - 2*(l**2) - l - 1 / 4"
   ]
  },
  {
   "cell_type": "code",
   "execution_count": null,
   "metadata": {},
   "outputs": [],
   "source": [
    "fig, ax = plt.subplots(figsize=(20, 8))\n",
    "gs = gridspec.GridSpec(1,2)\n",
    "gs.update(hspace=0.05)\n",
    "ax1 = plt.subplot(gs[0])\n",
    "plt.plot(Q.imag, A_vals['a0'].real, color=colors[0], lw=4, label='n=0')\n",
    "# plt.plot(Q.imag, a0c.real, '#202020', lw=2, ls='', marker='*', markersize=7)\n",
    "plt.plot(Qs.imag, a0cs.real, '#202020', lw=2, ls='', marker='*', markersize=7)\n",
    "plt.plot(Q.imag, A_vals['a2'].real, color=colors[1], lw=4, label='n=1')\n",
    "# plt.plot(Q.imag, a2c.real, '#202020', lw=2, ls='', marker='*', markersize=7)\n",
    "plt.plot(Qs.imag, a2cs.real, '#202020', lw=2, ls='', marker='*', markersize=7)\n",
    "plt.plot(Ql.imag, a02, '#606060', lw=4)\n",
    "plt.xlim(0, 10)\n",
    "plt.ylim(0, 4.5)\n",
    "plt.yticks(size=15)\n",
    "plt.xlabel('q', fontsize=25)\n",
    "plt.xticks(size=15)\n",
    "plt.legend(fontsize=20, frameon=False)\n",
    "ax2 = plt.subplot(gs[1])\n",
    "plt.plot(Q.imag, A_vals['a0'].imag, color=colors[0], lw=4, ls='--', label='n=0')\n",
    "# plt.plot(Q.imag, 1.15*a0c.imag, '#202020', lw=2, ls='', marker='*', markersize=7)\n",
    "plt.plot(Ql1.imag, a0cl1.imag, '#202020', lw=2, ls='', marker='*', markersize=7)\n",
    "plt.plot(Ql2.imag, a0cl2.imag, '#202020', lw=2, ls='', marker='*', markersize=7)\n",
    "plt.plot(Q.imag, A_vals['a2'].imag, color=colors[1], lw=4, ls='--', label='n=1')\n",
    "# plt.plot(Q.imag, 1.15*a2c.imag, '#202020', lw=2, ls='', marker='*', markersize=7)\n",
    "plt.plot(Ql1.imag, a2cl1.imag, '#202020', lw=2, ls='', marker='*', markersize=7)\n",
    "plt.plot(Ql2.imag, a2cl2.imag, '#202020', lw=2, ls='', marker='*', markersize=7)\n",
    "plt.xlim(0, 100)\n",
    "plt.yticks(size=15)\n",
    "plt.xlabel('q', fontsize=25)\n",
    "plt.xticks(size=15)\n",
    "# plt.ylim(-30, 30)\n",
    "plt.show()"
   ]
  },
  {
   "cell_type": "markdown",
   "metadata": {},
   "source": [
    "## Second Pair of Eigenvalues and Asymptotic Correction"
   ]
  },
  {
   "cell_type": "code",
   "execution_count": null,
   "metadata": {},
   "outputs": [],
   "source": [
    "l=1  # EP index\n",
    "ls = np.where(Q < ql[l])[0][-1]\n",
    "l1 = np.where(Q > ql[l])[0][0]\n",
    "l2 = np.where(Q > 2 * ql[l])[0][0]\n",
    "Qs = Q[:ls]\n",
    "Ql = Q[l1:]\n",
    "Ql1 = Q[l1:l2]\n",
    "Ql2 = Q[l2:]\n",
    "\n",
    "# Region I (purely real)\n",
    "a4cs = gamma[l] - (Delta[l]/ql[l].imag)*np.sqrt(-(ql[l])**2 + Qs**2)\n",
    "a6cs = gamma[l] + (Delta[l]/ql[l].imag)*np.sqrt(-(ql[l])**2 + Qs**2)\n",
    "# Region II (purely imag)\n",
    "a4cl1 = - 1.95 * (Delta[l]/ql[l].imag)*np.sqrt(-(ql[l])**2 + Ql1**2)\n",
    "a6cl1 = + 1.95 * (Delta[l]/ql[l].imag)*np.sqrt(-(ql[l])**2 + Ql1**2)\n",
    "# Region II (purely imag)\n",
    "a4cl2 = - 1.9 * np.sqrt(Ql2**2) +  (4*l + 1) * np.sqrt(2*Ql2)\n",
    "a6cl2 = + 1.9 * np.sqrt(Ql2**2) - (4*l + 1) * np.sqrt(2*Ql2)\n",
    "\n",
    "\n",
    "# Real part not in quadratic approximation (Regions II and III)\n",
    "a46 = (4*l + 1)* np.sqrt(2 * Ql.imag) - 2*(l**2) - l - 1 / 4\n"
   ]
  },
  {
   "cell_type": "code",
   "execution_count": null,
   "metadata": {},
   "outputs": [],
   "source": [
    "1.95 * 2, 5*2"
   ]
  },
  {
   "cell_type": "code",
   "execution_count": null,
   "metadata": {},
   "outputs": [],
   "source": [
    "fig, ax = plt.subplots(figsize=(20, 8))\n",
    "gs = gridspec.GridSpec(1,2)\n",
    "gs.update(hspace=0.05)\n",
    "ax1 = plt.subplot(gs[0])\n",
    "plt.plot(Q.imag, A_vals['a4'].real, color=colors[2], lw=4, label='n=2')\n",
    "plt.plot(Qs.imag, a4cs.real, '#202020', lw=2, ls='', marker='*', markersize=7)\n",
    "plt.plot(Q.imag, A_vals['a6'].real, color=colors[3], lw=4, label='n=3')\n",
    "plt.plot(Qs.imag, a6cs.real, '#202020', lw=2, ls='', marker='*', markersize=7)\n",
    "plt.plot(Ql.imag, a46 , '#606060', lw=4)\n",
    "plt.xlim(0, Q[-1].imag)\n",
    "# plt.ylim(10, 40)\n",
    "plt.yticks(size=15)\n",
    "plt.xlabel('q', fontsize=25)\n",
    "plt.xticks(size=15)\n",
    "plt.legend(fontsize=20, frameon=False)\n",
    "ax2 = plt.subplot(gs[1])\n",
    "plt.plot(Q.imag, A_vals['a4'].imag, color=colors[2], lw=4, ls='--', label='n=2')\n",
    "plt.plot(Ql1.imag, a4cl1.imag, '#202020', lw=2, ls='', marker='*', markersize=7)\n",
    "plt.plot(Ql2.imag, a4cl2.imag, '#202020', lw=2, ls='', marker='*', markersize=7)\n",
    "plt.plot(Q.imag, A_vals['a6'].imag, color=colors[3], lw=4, ls='--', label='n=3')\n",
    "plt.plot(Ql1.imag, a6cl1.imag, '#202020', lw=2, ls='', marker='*', markersize=7)\n",
    "plt.plot(Ql2.imag, a6cl2.imag, '#202020', lw=2, ls='', marker='*', markersize=7)\n",
    "plt.xlim(0, Q[-1].imag)\n",
    "plt.yticks(size=15)\n",
    "plt.xlabel('q', fontsize=25)\n",
    "plt.xticks(size=15)\n",
    "# plt.ylim(-60, 60)\n",
    "plt.show()"
   ]
  },
  {
   "cell_type": "markdown",
   "metadata": {},
   "source": [
    "## Third Pair of Eigenvalues and Asymptotic Correction"
   ]
  },
  {
   "cell_type": "code",
   "execution_count": null,
   "metadata": {},
   "outputs": [],
   "source": [
    "l=2  # EP index\n",
    "ls = np.where(Q < ql[l])[0][-1]\n",
    "l1 = np.where(Q > ql[l])[0][0]\n",
    "l2 = np.where(Q > 2 * ql[l])[0][0]\n",
    "Qs = Q[:ls]\n",
    "Ql = Q[l1:]\n",
    "Ql1 = Q[l1:l2]\n",
    "Ql2 = Q[l2:]\n",
    "\n",
    "a8cs = gamma[l] - (Delta[l]/ql[l].imag)*np.sqrt(-(ql[l])**2 + Qs**2)\n",
    "a10cs = gamma[l] + (Delta[l]/ql[l].imag)*np.sqrt(-(ql[l])**2 + Qs**2)\n",
    "# Region II (purely imag)\n",
    "a8cl1 = - 2.5 * (Delta[l]/ql[l].imag)*np.sqrt(-(ql[l])**2 + Ql1**2)\n",
    "a10cl1 = + 2.5 * (Delta[l]/ql[l].imag)*np.sqrt(-(ql[l])**2 + Ql1**2)\n",
    "# region III (purely imag)\n",
    "a8cl2 = - 1.75 * np.sqrt(Ql2**2) + (4*l + 1) * np.sqrt(2*Ql2)\n",
    "a10cl2 = + 1.75 * np.sqrt(Ql2**2) - (4*l + 1) * np.sqrt(2*Ql2)\n",
    "\n",
    "# Real part not in quadratic approximation (Regions II and III)\n",
    "a810 = (4*l + 1)* np.sqrt(2 * Ql.imag) - 2*(l**2) - l - 1 / 4\n"
   ]
  },
  {
   "cell_type": "code",
   "execution_count": null,
   "metadata": {},
   "outputs": [],
   "source": [
    "fig, ax = plt.subplots(figsize=(20, 8))\n",
    "gs = gridspec.GridSpec(1,2)\n",
    "gs.update(hspace=0.05)\n",
    "ax1 = plt.subplot(gs[0])\n",
    "plt.plot(Q.imag, A_vals['a8'].real, color=colors[4], lw=4, label='n=4')\n",
    "plt.plot(Qs.imag, a8cs.real, '#202020', lw=2, ls='', marker='*', markersize=7)\n",
    "plt.plot(Q.imag, A_vals['a10'].real, color=colors[5], lw=4, label='n=5')\n",
    "plt.plot(Qs.imag, a10cs.real, '#202020', lw=2, ls='', marker='*', markersize=7)\n",
    "plt.plot(Ql.imag, a810 , '#606060', lw=4)\n",
    "plt.xlim(0, qf)\n",
    "plt.yticks(size=15)\n",
    "plt.xlabel('q', fontsize=25)\n",
    "plt.xticks(size=15)\n",
    "plt.legend(fontsize=20, frameon=False)\n",
    "ax2 = plt.subplot(gs[1])\n",
    "plt.plot(Q.imag, A_vals['a8'].imag, color=colors[4], lw=4, ls='--', label='n=4')\n",
    "# plt.plot(Q.imag, 2 * a8c.imag, '#202020', lw=2, ls='', marker='*', markersize=7)\n",
    "plt.plot(Ql1.imag, a8cl1.imag, '#202020', lw=2, ls='', marker='*', markersize=7)\n",
    "plt.plot(Ql2.imag, a8cl2.imag, '#202020', lw=2, ls='', marker='*', markersize=7)\n",
    "plt.plot(Q.imag, A_vals['a10'].imag, color=colors[5], lw=4, ls='--', label='n=5')\n",
    "# plt.plot(Q.imag, 2 * a10c.imag, '#202020', lw=2, ls='', marker='*', markersize=7)\n",
    "plt.plot(Ql1.imag, a10cl1.imag, '#202020', lw=2, ls='', marker='*', markersize=7)\n",
    "plt.plot(Ql2.imag, a10cl2.imag, '#202020', lw=2, ls='', marker='*', markersize=7)\n",
    "plt.xlim(0, qf)\n",
    "plt.yticks(size=15)\n",
    "plt.xlabel('q', fontsize=25)\n",
    "plt.xticks(size=15)\n",
    "# plt.ylim(-30, 30)\n",
    "plt.show()"
   ]
  },
  {
   "cell_type": "code",
   "execution_count": null,
   "metadata": {},
   "outputs": [],
   "source": []
  }
 ],
 "metadata": {
  "kernelspec": {
   "display_name": "Python 3",
   "language": "python",
   "name": "python3"
  },
  "language_info": {
   "codemirror_mode": {
    "name": "ipython",
    "version": 3
   },
   "file_extension": ".py",
   "mimetype": "text/x-python",
   "name": "python",
   "nbconvert_exporter": "python",
   "pygments_lexer": "ipython3",
   "version": "3.7.8"
  }
 },
 "nbformat": 4,
 "nbformat_minor": 4
}
