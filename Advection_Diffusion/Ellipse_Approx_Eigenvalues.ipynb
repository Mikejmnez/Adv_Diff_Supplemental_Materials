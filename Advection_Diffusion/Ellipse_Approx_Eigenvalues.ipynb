{
 "cells": [
  {
   "cell_type": "markdown",
   "metadata": {},
   "source": [
    "# Eigenvalue Approximation by Ellipse Equation\n",
    "\n",
    "\n",
    "Given an eigenvalue pair $\\Gamma_{l} = \\{a_{2l}, a_{2l+2}\\}$, we approximate the coalescing of the pair at EPs as\n",
    "\n",
    "\n",
    "\\begin{equation}\n",
    "\\Gamma_{l} = \\gamma_{l} \\pm \\frac{\\Delta_{l}}{|q_{l}|}\\sqrt{|q_{l}|^2 - \\frac{4k^2}{\\epsilon^2}}\n",
    "\\end{equation}\n",
    "\n",
    "\n",
    "where:\n",
    "* $q_{l}$ is the Exceptional Point (EP) or the eigenvalue pair.\n",
    "* $\\Delta_{l} = 8l + 2$ is the difference between the eigenvalues that define the pair $\\Gamma_{l}$, evaluated at $q=0$.\n",
    "* $\\gamma_{n} = 16l^2 + 8l + 2$ centers the ellipse between the eigenvalue pair at the line $q=0$.\n",
    "\n",
    "For example, we have for the first three eigenvalue pairs: $q_{0}=1.468i$, $q_{1}=16.471i$, $q_{2}=47.806i$ (in manuscript, these are $q_{l}^{EP}$), $\\Delta_{0}=2$, $\\Delta_{1}=10$, $\\Delta_{2}=18$, and $\\gamma_{0}=2$ and $\\gamma_{1}=26$ and $\\gamma_{2}=82$.\n",
    "\n",
    "### NOTE:\n",
    "The approximation above describes a purely real eigenvalue pair before the Exceptional Point, or a purely imaginary pair of (complex conjugated) Eigenvalues for values of q past the Exceptional Point. Thus, we need to add extra terms for values beyond the EPs. \n",
    "### Solution:\n",
    "We need to add a correction associated with the asymptotic limit $|q|\\rightarrow\\infty$. For the first two pairs of (coalesced) eigenvalues, the asymptotic relations are\n",
    "\n",
    "$\\;\\;\\;\\;\\;\\;\\;\\;\\;\\;\\;\\;\\;\\;\\;\\;\\;\\;\\;\\;\\;\\;\\;\\;\\;\\;\\;\\;\\;\\;\\;\\;\\;\\;\\;\\;\\;\\;\\;\\;\\;\\;\\;\\;\\;\\;\\;\\;\\;\\;\\;\\;\\;\\;\\;\\;\\;\\;\\;\\;\\;\\;\\;\\;\\;\\;\\;\\;\\;\\;\\;\\;\\;\\;\\;\\;\\;\\;\\;\\;\\;\\;\\;\\;\\;\\;\\;\\;\\;\\;\\;\\;\\;\\;\\;\\;\\;\\;\\;\\;\\;\\;\\;\n",
    "\\begin{eqnarray}\\label{large_q_as}\n",
    "\\Gamma_{0} &\\sim \\sqrt{2|q|}-\\dfrac{1}{4} \\pm i\\left(\\sqrt{2|q|}-2|q| \\right) , \\\\\n",
    " \\Gamma_{2} &\\sim 5\\sqrt{2|q|}-\\dfrac{13}{4} \\pm i\\left(5\\sqrt{2|q|} - 2|q| \\right) ,\n",
    "\\end{eqnarray}\n",
    "$\n",
    "\n",
    "where $|q|=2k/\\epsilon$ is the absolute value of Mathieu's canonical parameter. The correction only involves the real component above.\n",
    "\n",
    "* In general (from Zeiner et al 2012), a good leading order approximation of eigenvalue pairs is\n",
    "\n",
    "\n",
    "\\begin{equation}\n",
    "    \\Gamma_{n} \\approx \\left[4n +1 \\right]\\left[1+i \\right]\\sqrt{2|q|} - 2q - 2n^2 -n -1/4, \\;\\;\\;\\text{for}\\;\\; q{>>}q_{n}\n",
    "\\end{equation}\n",
    "\n"
   ]
  },
  {
   "cell_type": "code",
   "execution_count": null,
   "metadata": {},
   "outputs": [],
   "source": [
    "import matplotlib.pyplot as plt\n",
    "import numpy as np\n",
    "from matplotlib import gridspec"
   ]
  },
  {
   "cell_type": "code",
   "execution_count": null,
   "metadata": {},
   "outputs": [],
   "source": [
    "from mathieu_functions import mathieu_functions as mfs\n",
    "from mathieu_functions import A_coefficients"
   ]
  },
  {
   "cell_type": "code",
   "execution_count": null,
   "metadata": {},
   "outputs": [],
   "source": [
    "# =================================\n",
    "# Important parameters to define\n",
    "# =================================\n",
    "\n",
    "# Location of Exceptional Points\n",
    "ql = [1.468* (1j), 16.471* (1j), 47.806* (1j) ] # Exceptional Points q_{l}\n",
    "gamma = [2, 26, 82]  # \\Gamma_{l}\n",
    "Delta = [2, 10, 18]  # \\Delta_{l}\n",
    "\n",
    "\n",
    "N = 70  # length of k-array\n",
    "alpha = 2  # length of channel periodic in x. I have used alpha=10 before, but for the gaussian initial condition a value of 2 is better.\n",
    "eps = 0.05  # ta / td << 1 for weakly diffusive processes.\n",
    "\n",
    "K_test = np.linspace(0, N/alpha, 1000)\n",
    "Q = (1j) * K_test / (8*eps)\n",
    "qf = Q[-1].imag  # Largest value of Mathieu's parameter. SHOULD NOT exceed 62, for now...\n",
    "\n",
    "M = 25  # matrix size. This value works well for values of q up to 62i.\n",
    "colors = ['#0000cc', '#990000', 'darkgreen',\n",
    "          'indigo', '#009999', 'orange',\n",
    "          '#ff66ff', '#b266ff', '#33ff99']"
   ]
  },
  {
   "cell_type": "code",
   "execution_count": null,
   "metadata": {},
   "outputs": [],
   "source": [
    "print('last value of q-array: ')\n",
    "qf"
   ]
  },
  {
   "cell_type": "code",
   "execution_count": null,
   "metadata": {},
   "outputs": [],
   "source": [
    "A_vals = A_coefficients(Q, M, 'even', 'one')  # even function with period one-pi"
   ]
  },
  {
   "cell_type": "markdown",
   "metadata": {},
   "source": [
    "## First Pair of Eigenvalues\n"
   ]
  },
  {
   "cell_type": "code",
   "execution_count": null,
   "metadata": {},
   "outputs": [],
   "source": [
    "a0c = gamma[0] - (Delta[0]/ql[0].imag)*np.sqrt(-(ql[0])**2 + Q**2)\n",
    "a2c = gamma[0] + (Delta[0]/ql[0].imag)*np.sqrt(-(ql[0])**2 + Q**2)"
   ]
  },
  {
   "cell_type": "markdown",
   "metadata": {},
   "source": [
    "## Asymptotic Correction"
   ]
  },
  {
   "cell_type": "code",
   "execution_count": null,
   "metadata": {},
   "outputs": [],
   "source": [
    "## valid at large |q| only\n",
    "l=0\n",
    "lll_i0 = np.where(Q>ql[l])[0][0]\n",
    "Q0 = Q[lll_i0:]\n",
    "a02 = (4*l + 1)* np.sqrt(2 * Q0.imag) - 2*(l**2) - l - 1 / 4"
   ]
  },
  {
   "cell_type": "code",
   "execution_count": null,
   "metadata": {},
   "outputs": [],
   "source": [
    "fig, ax = plt.subplots(figsize=(20, 8))\n",
    "gs = gridspec.GridSpec(1,2)\n",
    "gs.update(hspace=0.05)\n",
    "ax1 = plt.subplot(gs[0])\n",
    "plt.plot(Q.imag, A_vals['a0'].real, color=colors[0], lw=4, label='n=0')\n",
    "plt.plot(Q.imag, a0c.real, '#202020', lw=2, ls='', marker='*', markersize=7)\n",
    "plt.plot(Q.imag, A_vals['a2'].real, color=colors[1], lw=4, label='n=1')\n",
    "plt.plot(Q.imag, a2c.real, '#202020', lw=2, ls='', marker='*', markersize=7)\n",
    "plt.plot(Q0.imag, a02, '#606060', lw=4)\n",
    "plt.xlim(0, 10)\n",
    "plt.ylim(0, 4.5)\n",
    "plt.yticks(size=15)\n",
    "plt.xlabel('q', fontsize=25)\n",
    "plt.xticks(size=15)\n",
    "plt.legend(fontsize=20, frameon=False)\n",
    "ax2 = plt.subplot(gs[1])\n",
    "plt.plot(Q.imag, A_vals['a0'].imag, color=colors[0], lw=4, ls='--', label='n=0')\n",
    "plt.plot(Q.imag, a0c.imag, '#202020', lw=2, ls='', marker='*', markersize=7)\n",
    "plt.plot(Q.imag, A_vals['a2'].imag, color=colors[1], lw=4, ls='--', label='n=1')\n",
    "plt.plot(Q.imag, a2c.imag, '#202020', lw=2, ls='', marker='*', markersize=7)\n",
    "plt.xlim(0, 20)\n",
    "plt.yticks(size=15)\n",
    "plt.xlabel('q', fontsize=25)\n",
    "plt.xticks(size=15)\n",
    "plt.ylim(-30, 30)\n",
    "plt.show()"
   ]
  },
  {
   "cell_type": "markdown",
   "metadata": {},
   "source": [
    "## Second Pair of Eigenvalues"
   ]
  },
  {
   "cell_type": "code",
   "execution_count": null,
   "metadata": {},
   "outputs": [],
   "source": [
    "a4c = gamma[1] - (Delta[1]/ql[1].imag)*np.sqrt(-(ql[1])**2 + Q**2)\n",
    "a6c = gamma[1] + (Delta[1]/ql[1].imag)*np.sqrt(-(ql[1])**2 + Q**2)"
   ]
  },
  {
   "cell_type": "markdown",
   "metadata": {},
   "source": [
    "## Asymptotic Correction (Real part only)"
   ]
  },
  {
   "cell_type": "code",
   "execution_count": null,
   "metadata": {},
   "outputs": [],
   "source": [
    "## valid at large |q| only\n",
    "l = 1\n",
    "lll_i1 = np.where(Q>ql[l])[0][0]\n",
    "Q1 = Q[lll_i1:]\n",
    "a46 = (4*l + 1) * np.sqrt(2 * Q1.imag) -2*(l**2) - l - 1/4"
   ]
  },
  {
   "cell_type": "code",
   "execution_count": null,
   "metadata": {},
   "outputs": [],
   "source": [
    "fig, ax = plt.subplots(figsize=(20, 8))\n",
    "gs = gridspec.GridSpec(1,2)\n",
    "gs.update(hspace=0.05)\n",
    "ax1 = plt.subplot(gs[0])\n",
    "plt.plot(Q.imag, A_vals['a4'].real, color=colors[2], lw=4, label='n=2')\n",
    "plt.plot(Q.imag, a4c.real, '#202020', lw=2, ls='', marker='*', markersize=7)\n",
    "plt.plot(Q.imag, A_vals['a6'].real, color=colors[3], lw=4, label='n=3')\n",
    "plt.plot(Q.imag, a6c.real, '#202020', lw=2, ls='', marker='*', markersize=7)\n",
    "plt.plot(Q1.imag, a46 , '#606060', lw=4)\n",
    "plt.xlim(0, 35)\n",
    "plt.ylim(10, 40)\n",
    "plt.yticks(size=15)\n",
    "plt.xlabel('q', fontsize=25)\n",
    "plt.xticks(size=15)\n",
    "plt.legend(fontsize=20, frameon=False)\n",
    "ax2 = plt.subplot(gs[1])\n",
    "plt.plot(Q.imag, A_vals['a4'].imag, color=colors[2], lw=4, ls='--', label='n=2')\n",
    "plt.plot(Q.imag, a4c.imag, '#202020', lw=2, ls='', marker='*', markersize=7)\n",
    "plt.plot(Q.imag, A_vals['a6'].imag, color=colors[3], lw=4, ls='--', label='n=3')\n",
    "plt.plot(Q.imag, a6c.imag, '#202020', lw=2, ls='', marker='*', markersize=7)\n",
    "plt.xlim(0, 50)\n",
    "plt.yticks(size=15)\n",
    "plt.xlabel('q', fontsize=25)\n",
    "plt.xticks(size=15)\n",
    "# plt.ylim(-30, 30)\n",
    "plt.show()"
   ]
  },
  {
   "cell_type": "markdown",
   "metadata": {},
   "source": [
    "## Third Pair of Eigenvalues"
   ]
  },
  {
   "cell_type": "code",
   "execution_count": null,
   "metadata": {},
   "outputs": [],
   "source": [
    "a8c = gamma[2] - (Delta[2]/ql[2].imag)*np.sqrt(-(ql[2])**2 + Q**2)\n",
    "a10c = gamma[2] + (Delta[2]/ql[2].imag)*np.sqrt(-(ql[2])**2 + Q**2)"
   ]
  },
  {
   "cell_type": "markdown",
   "metadata": {},
   "source": [
    "## Asymptotic Correction (Real part only)"
   ]
  },
  {
   "cell_type": "code",
   "execution_count": null,
   "metadata": {},
   "outputs": [],
   "source": [
    "## valid at large |q| only\n",
    "l=2\n",
    "lll_i2 = np.where(Q>ql[l])[0][0]\n",
    "Q2 = Q[lll_i2:]\n",
    "a810 = (4 * l + 1) * np.sqrt(2 * Q2.imag) -2*(l**2) - l - 1 / 2"
   ]
  },
  {
   "cell_type": "code",
   "execution_count": null,
   "metadata": {},
   "outputs": [],
   "source": [
    "fig, ax = plt.subplots(figsize=(20, 8))\n",
    "gs = gridspec.GridSpec(1,2)\n",
    "gs.update(hspace=0.05)\n",
    "ax1 = plt.subplot(gs[0])\n",
    "plt.plot(Q.imag, A_vals['a8'].real, color=colors[4], lw=4, label='n=4')\n",
    "plt.plot(Q.imag, a8c.real, '#202020', lw=2, ls='', marker='*', markersize=7)\n",
    "plt.plot(Q.imag, A_vals['a10'].real, color=colors[5], lw=4, label='n=5')\n",
    "plt.plot(Q.imag, a10c.real, '#202020', lw=2, ls='', marker='*', markersize=7)\n",
    "plt.plot(Q2.imag, a810 , '#606060', lw=4)\n",
    "plt.xlim(0, qf)\n",
    "plt.yticks(size=15)\n",
    "plt.xlabel('q', fontsize=25)\n",
    "plt.xticks(size=15)\n",
    "plt.legend(fontsize=20, frameon=False)\n",
    "ax2 = plt.subplot(gs[1])\n",
    "plt.plot(Q.imag, A_vals['a8'].imag, color=colors[4], lw=4, ls='--', label='n=4')\n",
    "plt.plot(Q.imag, a8c.imag, '#202020', lw=2, ls='', marker='*', markersize=7)\n",
    "plt.plot(Q.imag, A_vals['a10'].imag, color=colors[5], lw=4, ls='--', label='n=5')\n",
    "plt.plot(Q.imag, a10c.imag, '#202020', lw=2, ls='', marker='*', markersize=7)\n",
    "plt.xlim(0, qf)\n",
    "plt.yticks(size=15)\n",
    "plt.xlabel('q', fontsize=25)\n",
    "plt.xticks(size=15)\n",
    "# plt.ylim(-30, 30)\n",
    "plt.show()"
   ]
  }
 ],
 "metadata": {
  "kernelspec": {
   "display_name": "Python 3",
   "language": "python",
   "name": "python3"
  },
  "language_info": {
   "codemirror_mode": {
    "name": "ipython",
    "version": 3
   },
   "file_extension": ".py",
   "mimetype": "text/x-python",
   "name": "python",
   "nbconvert_exporter": "python",
   "pygments_lexer": "ipython3",
   "version": "3.7.8"
  }
 },
 "nbformat": 4,
 "nbformat_minor": 4
}
